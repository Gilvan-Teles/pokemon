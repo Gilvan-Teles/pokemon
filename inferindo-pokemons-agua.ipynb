{
 "cells": [
  {
   "cell_type": "markdown",
   "metadata": {},
   "source": [
    "# Importação de pacotes e definição de funções "
   ]
  },
  {
   "cell_type": "code",
   "execution_count": 1,
   "metadata": {},
   "outputs": [],
   "source": [
    "import numpy as np\n",
    "import pandas as pd\n",
    "import matplotlib.pyplot as plt\n",
    "import matplotlib.image as mpimg\n",
    "from poke_utils.utils import (list_poke_names, word2vec, cosdis, similarity_word, most_similar)"
   ]
  },
  {
   "cell_type": "markdown",
   "metadata": {},
   "source": [
    "# Importação dos dados"
   ]
  },
  {
   "cell_type": "code",
   "execution_count": 2,
   "metadata": {},
   "outputs": [],
   "source": [
    "# dados das figuras\n",
    "imagens = [mpimg.imread(f'Pokemon Figures/{poke}.png') for poke in list_poke_names()]\n",
    "# plt.imshow(imagens[0]) # caso precise lembrar/testar\n",
    "\n",
    "# nomes que serao usados no final\n",
    "poke_names = pd.read_csv('pokemon_names.csv')\n",
    "\n",
    "# dados dos tipos principais dos pokemon (1 só)\n",
    "poke_types = pd.read_csv('pokemon_1_type.csv')"
   ]
  },
  {
   "cell_type": "markdown",
   "metadata": {},
   "source": [
    "# Tratamento dos dados"
   ]
  },
  {
   "cell_type": "code",
   "execution_count": 4,
   "metadata": {},
   "outputs": [],
   "source": [
    "# relacionando o dataset de imagens com o de tipos\n",
    "poke_base = pd.DataFrame({'name_pokes':poke_names['name'], \n",
    "                          'name_poke_types':[most_similar(name, poke_types['name'], \n",
    "                                                          metric = 'jaro_winkler') for name in poke_names['name']]})\n",
    "\n",
    "dfinal = poke_base.merge(poke_types, how='inner', left_on='name_poke_types', right_on='name')\n",
    "\n",
    "# filtrando somente os campos que serão usados\n",
    "dfinal = dfinal.loc[:, ['name','type']]\n",
    "\n",
    "# tratando os nomes dos pokemons\n",
    "dfinal.loc[:,'name'] = [name.split(' ')[0] for name in dfinal.loc[:,'name']]"
   ]
  },
  {
   "cell_type": "code",
   "execution_count": 9,
   "metadata": {},
   "outputs": [],
   "source": [
    "dados_graf = dfinal.groupby('type').count().reset_index()"
   ]
  },
  {
   "cell_type": "code",
   "execution_count": 54,
   "metadata": {},
   "outputs": [
    {
     "data": {
      "text/plain": [
       "Text(0, 0.5, 'Contagem')"
      ]
     },
     "execution_count": 54,
     "metadata": {},
     "output_type": "execute_result"
    },
    {
     "data": {
      "image/png": "[encoded data removed]",
      "text/plain": [
       "<Figure size 720x360 with 1 Axes>"
      ]
     },
     "metadata": {
      "needs_background": "light"
     },
     "output_type": "display_data"
    }
   ],
   "source": [
    "custom_colors = {\n",
    "    'Bug': '#a8b820',\n",
    "    'Dark': '#705848',\n",
    "    'Dragon': '#7038f8',\n",
    "    'Electric': '#f8d030',\n",
    "    'Fairy': '#ee99ac',\n",
    "    'Fighting': '#c03028',\n",
    "    'Fire': '#f08030',\n",
    "    'Flying': '#a890f0', \n",
    "    'Ghost': '#705898',\n",
    "    'Grass': '#78c850',\n",
    "    'Ground': '#e0c068',\n",
    "    'Ice': '#98d8d8',\n",
    "    'Normal': '#a8a878',\n",
    "    'Poison': '#a040a0',\n",
    "    'Psychic': '#f85888',\n",
    "    'Rock': '#b8a038',\n",
    "    'Steel': '#b8b8d0',\n",
    "    'Water': '#6890f0'}\n",
    "   \n",
    "fig, ax = plt.subplots(figsize = [10,5])\n",
    "plt.bar(x = dados_graf['type'], height = dados_graf['name'], color = custom_colors.values())\n",
    "plt.title('Contagem de pokemons ela tipagem primária\\n', fontsize = 20)\n",
    "plt.xticks(rotation=90)\n",
    "ax.set_xlabel('Tipo')\n",
    "ax.set_ylabel('Contagem')"
   ]
  },
  {
   "cell_type": "code",
   "execution_count": null,
   "metadata": {},
   "outputs": [],
   "source": []
  },
  {
   "cell_type": "code",
   "execution_count": null,
   "metadata": {},
   "outputs": [],
   "source": []
  },
  {
   "cell_type": "code",
   "execution_count": null,
   "metadata": {},
   "outputs": [],
   "source": []
  },
  {
   "cell_type": "code",
   "execution_count": null,
   "metadata": {},
   "outputs": [],
   "source": []
  },
  {
   "cell_type": "code",
   "execution_count": null,
   "metadata": {},
   "outputs": [],
   "source": []
  },
  {
   "cell_type": "code",
   "execution_count": null,
   "metadata": {},
   "outputs": [],
   "source": []
  }
 ],
 "metadata": {
  "kernelspec": {
   "display_name": "Python 3",
   "language": "python",
   "name": "python3"
  },
  "language_info": {
   "codemirror_mode": {
    "name": "ipython",
    "version": 3
   },
   "file_extension": ".py",
   "mimetype": "text/x-python",
   "name": "python",
   "nbconvert_exporter": "python",
   "pygments_lexer": "ipython3",
   "version": "3.7.6"
  }
 },
 "nbformat": 4,
 "nbformat_minor": 4
}
