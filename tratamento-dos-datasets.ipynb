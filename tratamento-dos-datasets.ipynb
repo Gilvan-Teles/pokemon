{
 "cells": [
  {
   "cell_type": "markdown",
   "metadata": {},
   "source": [
    "# Importação de pacotes"
   ]
  },
  {
   "cell_type": "code",
   "execution_count": 1,
   "metadata": {},
   "outputs": [],
   "source": [
    "import pandas as pd\n",
    "import numpy as np\n",
    "from poke_utils.utils import list_poke_names"
   ]
  },
  {
   "cell_type": "markdown",
   "metadata": {},
   "source": [
    "# Importação dos dados"
   ]
  },
  {
   "cell_type": "code",
   "execution_count": 2,
   "metadata": {},
   "outputs": [],
   "source": [
    "# Vetor do nomes\n",
    "pokes = list_poke_names()\n",
    "\n",
    "# Dataframe de informações\n",
    "poke_infos = pd.read_csv('pokedex.csv' )"
   ]
  },
  {
   "cell_type": "markdown",
   "metadata": {},
   "source": [
    "# Tratamento dos dados"
   ]
  },
  {
   "cell_type": "code",
   "execution_count": 3,
   "metadata": {},
   "outputs": [],
   "source": [
    "# Pegando apenas as colunas que interessam do dataframe de infos e tratando elas\n",
    "poke_types = poke_infos.loc[:,['pokedex_number','name','type_1','type_2']]\n",
    "names_low = [name.lower() for name in poke_types['name']]\n",
    "poke_types.loc[:, 'name'] = names_low"
   ]
  },
  {
   "cell_type": "code",
   "execution_count": 4,
   "metadata": {},
   "outputs": [],
   "source": [
    "# Criando um dataframe com múltiplas linhas para pokemons com 2 tipos\n",
    "poke_types_1 = poke_types.loc[:, ['pokedex_number', 'name', 'type_1']]\n",
    "poke_types_2 = poke_types.loc[:, ['pokedex_number', 'name', 'type_2']]\n",
    "poke_types_1.rename(columns={'type_1':'type'}, inplace=True)\n",
    "poke_types_2.rename(columns={'type_2':'type'}, inplace=True)\n",
    "poke_types_2.dropna(axis = 0, inplace =  True)\n",
    "poke_all_types = pd.concat([poke_types_1,poke_types_2])"
   ]
  },
  {
   "cell_type": "code",
   "execution_count": 5,
   "metadata": {},
   "outputs": [],
   "source": [
    "# Criando um dataframe apenas com o tipo principal do pokemon\n",
    "poke_unique_type = poke_types_1"
   ]
  },
  {
   "cell_type": "markdown",
   "metadata": {},
   "source": [
    "# Exportando os dataframes"
   ]
  },
  {
   "cell_type": "code",
   "execution_count": 6,
   "metadata": {},
   "outputs": [],
   "source": [
    "poke_all_types.to_csv('pokemon_2_type.csv', sep=',')\n",
    "poke_unique_type.to_csv('pokemon_1_type.csv', sep=',')\n",
    "pd.DataFrame({'name':pokes}).to_csv('pokemon_names.csv', sep=',')"
   ]
  }
 ],
 "metadata": {
  "kernelspec": {
   "display_name": "Python 3",
   "language": "python",
   "name": "python3"
  },
  "language_info": {
   "codemirror_mode": {
    "name": "ipython",
    "version": 3
   },
   "file_extension": ".py",
   "mimetype": "text/x-python",
   "name": "python",
   "nbconvert_exporter": "python",
   "pygments_lexer": "ipython3",
   "version": "3.7.6"
  }
 },
 "nbformat": 4,
 "nbformat_minor": 4
}
